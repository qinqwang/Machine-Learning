{
 "cells": [
  {
   "cell_type": "code",
   "execution_count": 2,
   "metadata": {},
   "outputs": [
    {
     "name": "stderr",
     "output_type": "stream",
     "text": [
      "/Users/mac/anaconda2/envs/py3k/lib/python3.6/site-packages/h5py/__init__.py:36: FutureWarning: Conversion of the second argument of issubdtype from `float` to `np.floating` is deprecated. In future, it will be treated as `np.float64 == np.dtype(float).type`.\n",
      "  from ._conv import register_converters as _register_converters\n"
     ]
    }
   ],
   "source": [
    "import tensorflow as tf\n",
    "import numpy as np"
   ]
  },
  {
   "cell_type": "code",
   "execution_count": 3,
   "metadata": {},
   "outputs": [],
   "source": [
    "x_data = np.random.rand(100).astype(np.float32)"
   ]
  },
  {
   "cell_type": "code",
   "execution_count": 4,
   "metadata": {},
   "outputs": [],
   "source": [
    "y_data = x_data*0.1 + 0.7"
   ]
  },
  {
   "cell_type": "code",
   "execution_count": 5,
   "metadata": {},
   "outputs": [
    {
     "data": {
      "text/plain": [
       "array([0.8572296 , 0.58891386, 0.98912686, 0.05088459, 0.44954014,\n",
       "       0.8295626 , 0.10986266, 0.4194301 , 0.99445456, 0.16009258,\n",
       "       0.6798263 , 0.4585293 , 0.34382218, 0.8053548 , 0.25332046,\n",
       "       0.71136516, 0.03088676, 0.44173026, 0.37221542, 0.8206724 ,\n",
       "       0.65281856, 0.21481457, 0.9126468 , 0.55670565, 0.68296295,\n",
       "       0.39392802, 0.5315681 , 0.62190425, 0.18912998, 0.6771453 ,\n",
       "       0.37761804, 0.60472655, 0.8396193 , 0.29477096, 0.9191715 ,\n",
       "       0.9842161 , 0.3425564 , 0.41914448, 0.706032  , 0.6950593 ,\n",
       "       0.7136058 , 0.5505342 , 0.23379456, 0.63611495, 0.2646704 ,\n",
       "       0.1703049 , 0.61408716, 0.6400061 , 0.3875406 , 0.51882267,\n",
       "       0.67458963, 0.35099342, 0.7901778 , 0.71461225, 0.4659765 ,\n",
       "       0.24131107, 0.57861334, 0.10359371, 0.8472841 , 0.13220082,\n",
       "       0.3258686 , 0.3859542 , 0.49454913, 0.6296007 , 0.28062692,\n",
       "       0.13802518, 0.29859915, 0.976419  , 0.63671887, 0.86274976,\n",
       "       0.5549847 , 0.8370656 , 0.30796435, 0.06029962, 0.66507524,\n",
       "       0.7804887 , 0.06905873, 0.7346051 , 0.6067025 , 0.68234825,\n",
       "       0.8045613 , 0.71404266, 0.61599165, 0.22647415, 0.19985667,\n",
       "       0.67669857, 0.5504843 , 0.5774565 , 0.7379082 , 0.673723  ,\n",
       "       0.16978721, 0.21673691, 0.7298823 , 0.7341683 , 0.9810779 ,\n",
       "       0.28562707, 0.7280579 , 0.36712965, 0.3032444 , 0.9478088 ],\n",
       "      dtype=float32)"
      ]
     },
     "execution_count": 5,
     "metadata": {},
     "output_type": "execute_result"
    }
   ],
   "source": [
    "x_data"
   ]
  },
  {
   "cell_type": "code",
   "execution_count": 6,
   "metadata": {},
   "outputs": [],
   "source": [
    "Weight = tf.Variable(tf.random_uniform([1], -1.0, 1.0))\n",
    "biases = tf.Variable(tf.zeros([1]))"
   ]
  },
  {
   "cell_type": "code",
   "execution_count": 7,
   "metadata": {},
   "outputs": [],
   "source": [
    "y = Weight*x_data + biases"
   ]
  },
  {
   "cell_type": "code",
   "execution_count": 8,
   "metadata": {},
   "outputs": [],
   "source": [
    "loss = tf.reduce_mean(tf.square(y - y_data))"
   ]
  },
  {
   "cell_type": "code",
   "execution_count": 10,
   "metadata": {},
   "outputs": [],
   "source": [
    "optimizer = tf.train.GradientDescentOptimizer(0.5)"
   ]
  },
  {
   "cell_type": "code",
   "execution_count": 11,
   "metadata": {},
   "outputs": [],
   "source": [
    "train = optimizer.minimize(loss)"
   ]
  },
  {
   "cell_type": "code",
   "execution_count": 12,
   "metadata": {},
   "outputs": [
    {
     "name": "stdout",
     "output_type": "stream",
     "text": [
      "WARNING:tensorflow:From /Users/mac/anaconda2/envs/py3k/lib/python3.6/site-packages/tensorflow/python/util/tf_should_use.py:118: initialize_all_variables (from tensorflow.python.ops.variables) is deprecated and will be removed after 2017-03-02.\n",
      "Instructions for updating:\n",
      "Use `tf.global_variables_initializer` instead.\n"
     ]
    }
   ],
   "source": [
    "init = tf.initialize_all_variables()"
   ]
  },
  {
   "cell_type": "code",
   "execution_count": 13,
   "metadata": {},
   "outputs": [],
   "source": [
    "sess = tf.Session()\n",
    "sess.run(init)"
   ]
  },
  {
   "cell_type": "code",
   "execution_count": 14,
   "metadata": {},
   "outputs": [
    {
     "name": "stdout",
     "output_type": "stream",
     "text": [
      "0 [-0.18722391] [1.2387278]\n",
      "20 [-0.0574496] [0.7882303]\n",
      "40 [0.04470494] [0.73098576]\n",
      "60 [0.08058083] [0.71088195]\n",
      "80 [0.09318011] [0.70382166]\n",
      "100 [0.09760487] [0.70134217]\n",
      "120 [0.09915883] [0.70047134]\n",
      "140 [0.09970456] [0.7001655]\n",
      "160 [0.09989625] [0.7000581]\n",
      "180 [0.09996357] [0.7000204]\n",
      "200 [0.09998717] [0.7000072]\n"
     ]
    }
   ],
   "source": [
    "for step in range(201):\n",
    "    sess.run(train)\n",
    "    if step % 20 ==0:\n",
    "        print(step, sess.run(Weight), sess.run(biases))"
   ]
  },
  {
   "cell_type": "code",
   "execution_count": null,
   "metadata": {},
   "outputs": [],
   "source": []
  }
 ],
 "metadata": {
  "kernelspec": {
   "display_name": "Python 3",
   "language": "python",
   "name": "python3"
  },
  "language_info": {
   "codemirror_mode": {
    "name": "ipython",
    "version": 3
   },
   "file_extension": ".py",
   "mimetype": "text/x-python",
   "name": "python",
   "nbconvert_exporter": "python",
   "pygments_lexer": "ipython3",
   "version": "3.6.5"
  }
 },
 "nbformat": 4,
 "nbformat_minor": 2
}
